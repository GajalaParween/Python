{
 "cells": [
  {
   "cell_type": "markdown",
   "id": "2b5be05e-0b35-4711-8d58-2195fea6e744",
   "metadata": {},
   "source": [
    "### 1 converting an integer into Decimal"
   ]
  },
  {
   "cell_type": "code",
   "execution_count": 103,
   "id": "db4a7827-e598-45b8-a42c-984035204b04",
   "metadata": {},
   "outputs": [
    {
     "name": "stdout",
     "output_type": "stream",
     "text": [
      "10\n",
      "<class 'decimal.Decimal'>\n"
     ]
    }
   ],
   "source": [
    "from decimal import Decimal\n",
    "integer=10\n",
    "print(Decimal(integer))\n",
    "print(type(Decimal(integer)))"
   ]
  },
  {
   "cell_type": "code",
   "execution_count": 105,
   "id": "4c3d3055-7afd-44c2-9fb8-496418b5bbb2",
   "metadata": {},
   "outputs": [
    {
     "name": "stdout",
     "output_type": "stream",
     "text": [
      "10\n",
      "<class 'decimal.Decimal'>\n"
     ]
    }
   ],
   "source": [
    "intege=10\n",
    "print(Decimal(integer))\n",
    "print(type(Decimal(integer)))"
   ]
  },
  {
   "cell_type": "markdown",
   "id": "8af4ed56-b7d2-44e5-90ea-ade5bd3844bf",
   "metadata": {},
   "source": [
    "### 2 converting an string of integers into Decimals"
   ]
  },
  {
   "cell_type": "code",
   "execution_count": 108,
   "id": "1a1667e4-49a2-44a2-bf41-f3bea06dfff5",
   "metadata": {},
   "outputs": [
    {
     "name": "stdout",
     "output_type": "stream",
     "text": [
      "123456\n",
      "<class 'decimal.Decimal'>\n"
     ]
    }
   ],
   "source": [
    "string= \"123456\"\n",
    "print(Decimal(string))\n",
    "print(type(Decimal(string)))"
   ]
  },
  {
   "cell_type": "markdown",
   "id": "d73d5fd5-10ef-46a0-8691-b9f39277def5",
   "metadata": {},
   "source": [
    "### 3 Reversing a string using an extended slicing technique"
   ]
  },
  {
   "cell_type": "code",
   "execution_count": 111,
   "id": "4e0b5250-a712-435b-a95f-442a8ec75745",
   "metadata": {},
   "outputs": [
    {
     "name": "stdout",
     "output_type": "stream",
     "text": [
      "gnimmragorP nohtyP\n"
     ]
    }
   ],
   "source": [
    "string=\"Python Progarmming\"\n",
    "print(string[::-1])"
   ]
  },
  {
   "cell_type": "code",
   "execution_count": 23,
   "id": "9640c3de-5a17-4639-8a46-26d0c1c9dd32",
   "metadata": {},
   "outputs": [
    {
     "data": {
      "text/plain": [
       "'elppa'"
      ]
     },
     "execution_count": 23,
     "metadata": {},
     "output_type": "execute_result"
    }
   ],
   "source": [
    "def re(n):\n",
    "    for i in n:\n",
    "        return n[::-1]\n",
    "\n",
    "re(\"apple\")"
   ]
  },
  {
   "cell_type": "code",
   "execution_count": 43,
   "id": "ce432d72-2e11-48bd-9677-3de9b7d81a10",
   "metadata": {},
   "outputs": [
    {
     "name": "stdout",
     "output_type": "stream",
     "text": [
      "GAJALA\n"
     ]
    }
   ],
   "source": [
    "def dfin(n):\n",
    "    p=''\n",
    "    for each in n:\n",
    "        if 97 <=ord(each)<=122:\n",
    "            p+=chr(ord(each)-32)\n",
    "        else:\n",
    "            p+=each\n",
    "    print(p)       \n",
    "dfin(\"Gajala\")          "
   ]
  },
  {
   "cell_type": "code",
   "execution_count": 49,
   "id": "8cd70387-edfb-416b-bcfc-bc9d05e4ab06",
   "metadata": {},
   "outputs": [
    {
     "name": "stdout",
     "output_type": "stream",
     "text": [
      "abhi\n"
     ]
    }
   ],
   "source": [
    "def gh(n):\n",
    "    p=''\n",
    "    for each in n:\n",
    "        if 65 <=ord(each)<=90:\n",
    "            p+=chr(ord(each)+32)\n",
    "        else:\n",
    "            p+=each\n",
    "    print(p)\n",
    "\n",
    "gh(\"ABhi\")"
   ]
  },
  {
   "cell_type": "markdown",
   "id": "160a9044-3f67-480d-a35a-0dbec167deee",
   "metadata": {},
   "source": [
    "### 4 Counting vowels in a given words"
   ]
  },
  {
   "cell_type": "code",
   "execution_count": 170,
   "id": "e8577d41-c32a-435c-975d-989384aa5bcf",
   "metadata": {},
   "outputs": [],
   "source": [
    "## by using function\n",
    "\n",
    "list1=[\"a\",\"e\",\"i\",\"o\",\"u\"]\n",
    "def count_vowels(sentance):\n",
    "    count = 0\n",
    "    for i in sentance:\n",
    "        if i in list1:\n",
    "            count +=1\n",
    "        return(count)"
   ]
  },
  {
   "cell_type": "code",
   "execution_count": 166,
   "id": "b8886cf7-53f6-4a11-b7fc-94207a2ea167",
   "metadata": {},
   "outputs": [
    {
     "data": {
      "text/plain": [
       "1"
      ]
     },
     "execution_count": 166,
     "metadata": {},
     "output_type": "execute_result"
    }
   ],
   "source": [
    "list1 =['a','e','i','o','u']\n",
    "def count_(s):\n",
    "    count= 0\n",
    "    for each in s:\n",
    "        if each in list1:\n",
    "            count+=1\n",
    "        return(count)\n",
    "\n",
    "\n",
    "count_(\"a\")"
   ]
  },
  {
   "cell_type": "code",
   "execution_count": 172,
   "id": "81f46f4a-b0d2-43dc-bfe3-783890feed83",
   "metadata": {},
   "outputs": [
    {
     "data": {
      "text/plain": [
       "1"
      ]
     },
     "execution_count": 172,
     "metadata": {},
     "output_type": "execute_result"
    }
   ],
   "source": [
    "count_vowels(\"a\")"
   ]
  },
  {
   "cell_type": "code",
   "execution_count": 190,
   "id": "e5692999-4410-4786-92ba-fb97e759239b",
   "metadata": {},
   "outputs": [
    {
     "name": "stdout",
     "output_type": "stream",
     "text": [
      "5\n"
     ]
    }
   ],
   "source": [
    "## using for loops\n",
    "vowels = [\"a\",\"e\",\"i\",\"o\",\"u\"]\n",
    "count = 0\n",
    "#words = \"a\"\n",
    "for i in vowels: \n",
    "    count+=1\n",
    "\n",
    "print(count)"
   ]
  },
  {
   "cell_type": "markdown",
   "id": "8da25f7c-e510-4192-a088-4933bbecf5a7",
   "metadata": {},
   "source": [
    "### 5 Counting consonants in a given words"
   ]
  },
  {
   "cell_type": "code",
   "execution_count": 154,
   "id": "df5a8d36-6e8e-4488-b061-9dd1e51e23bc",
   "metadata": {},
   "outputs": [],
   "source": [
    "## using function\n",
    "\n",
    "list1=[\"a\",\"e\",\"i\",\"o\",\"u\"]\n",
    "def count_consonants(sentance):\n",
    "    count = 0\n",
    "    for i in sentance:\n",
    "        if i in list1:\n",
    "            count +=1\n",
    "        return(count)"
   ]
  },
  {
   "cell_type": "code",
   "execution_count": 158,
   "id": "252427a5-658e-4807-926f-4144c59f1a2a",
   "metadata": {},
   "outputs": [
    {
     "data": {
      "text/plain": [
       "1"
      ]
     },
     "execution_count": 158,
     "metadata": {},
     "output_type": "execute_result"
    }
   ],
   "source": [
    "count_consonants(\"eai\")"
   ]
  },
  {
   "cell_type": "code",
   "execution_count": 125,
   "id": "34f0a38b-0c63-48b0-85e9-31e8123a727d",
   "metadata": {},
   "outputs": [
    {
     "name": "stdout",
     "output_type": "stream",
     "text": [
      "0\n"
     ]
    }
   ],
   "source": [
    "## using for loops\n",
    "vowels = [\"a\",\"e\",\"i\",\"o\",\"u\"]\n",
    "count = 0\n",
    "words = \"Programming\"\n",
    "for i in words:\n",
    "    if i in vowels:\n",
    "        count +=0\n",
    "\n",
    "print(count)"
   ]
  },
  {
   "cell_type": "markdown",
   "id": "417bb4ed-6f10-47e6-b795-92f2ef7aa41d",
   "metadata": {},
   "source": [
    "### 6 Counting the number of Occurance of a character in a string"
   ]
  },
  {
   "cell_type": "code",
   "execution_count": 128,
   "id": "2f2626f6-cf7f-42bd-8f21-6f57213d285b",
   "metadata": {},
   "outputs": [
    {
     "name": "stdout",
     "output_type": "stream",
     "text": [
      "2\n"
     ]
    }
   ],
   "source": [
    "words = \"Python_Programming\"\n",
    "character =\"g\"\n",
    "count=0\n",
    "for  i in words:\n",
    "    if i == character:\n",
    "        count +=1\n",
    "\n",
    "print(count)"
   ]
  },
  {
   "cell_type": "markdown",
   "id": "7abb365c-78f8-4167-9e74-968187f4edc6",
   "metadata": {},
   "source": [
    "### 7 Writing Fibonacci series by using recursive"
   ]
  },
  {
   "cell_type": "code",
   "execution_count": 200,
   "id": "fc5ea203-1266-4e0c-8eca-10eb66ed5a38",
   "metadata": {},
   "outputs": [
    {
     "name": "stdin",
     "output_type": "stream",
     "text": [
      "Enter a number: 7\n"
     ]
    },
    {
     "name": "stdout",
     "output_type": "stream",
     "text": [
      "13\n"
     ]
    }
   ],
   "source": [
    "n = int(input(\"Enter a number:\"))\n",
    "\n",
    "def fib(n):\n",
    "    if n == 0:\n",
    "        return 0\n",
    "    elif n ==1:\n",
    "        return 1\n",
    "    else:\n",
    "        return fib(n-1)+fib(n-2)\n",
    "print(fib(n))"
   ]
  },
  {
   "cell_type": "code",
   "execution_count": 202,
   "id": "f334f697-756d-400d-98fd-3da3cabbb81c",
   "metadata": {},
   "outputs": [
    {
     "name": "stdin",
     "output_type": "stream",
     "text": [
      "Enter a number; 7\n"
     ]
    },
    {
     "name": "stdout",
     "output_type": "stream",
     "text": [
      "13\n"
     ]
    }
   ],
   "source": [
    "n = int(input(\"Enter a number;\"))\n",
    "def df(n):\n",
    "    if n ==0:\n",
    "        return 0\n",
    "    elif n ==1:\n",
    "        return 1\n",
    "    else:\n",
    "        return df(n-1)+df(n-2)\n",
    "\n",
    "print(df(n))"
   ]
  },
  {
   "cell_type": "code",
   "execution_count": 210,
   "id": "487d480a-fc7a-42f5-a067-593ee16d9fb7",
   "metadata": {},
   "outputs": [
    {
     "data": {
      "text/plain": [
       "13"
      ]
     },
     "execution_count": 210,
     "metadata": {},
     "output_type": "execute_result"
    }
   ],
   "source": [
    "def feb(n):\n",
    "    if n ==0:\n",
    "        return 0\n",
    "    elif n == 1:\n",
    "        return 1\n",
    "    else:\n",
    "        return feb(n-1)+feb(n-2)\n",
    "\n",
    "feb(7)"
   ]
  },
  {
   "cell_type": "markdown",
   "id": "d7b03d11-25a1-4ecf-a1c9-1d93ecc04a7d",
   "metadata": {},
   "source": [
    "### 8 Writing Factorials "
   ]
  },
  {
   "cell_type": "code",
   "execution_count": 196,
   "id": "dc00813e-eecc-4292-ae7c-a8218fd8fafb",
   "metadata": {},
   "outputs": [
    {
     "name": "stdin",
     "output_type": "stream",
     "text": [
      "Enter a number 7\n"
     ]
    },
    {
     "name": "stdout",
     "output_type": "stream",
     "text": [
      "5040\n"
     ]
    }
   ],
   "source": [
    "n = int(input(\"Enter a number\"))\n",
    "\n",
    "def fact(n):\n",
    "    fact =1\n",
    "    for i in range(1,n+1):\n",
    "        fact *= i\n",
    "    return fact\n",
    "print(fact(n))"
   ]
  },
  {
   "cell_type": "code",
   "execution_count": 9,
   "id": "eee419fe-53d4-4eac-b629-abf8350812d4",
   "metadata": {},
   "outputs": [
    {
     "name": "stdin",
     "output_type": "stream",
     "text": [
      "Enter a number 5\n"
     ]
    },
    {
     "name": "stdout",
     "output_type": "stream",
     "text": [
      "120\n"
     ]
    }
   ],
   "source": [
    "n = int(input(\"Enter a number\"))\n",
    "\n",
    "def fact(n):\n",
    "    fact =1\n",
    "    for i in range(1,n+1):\n",
    "        fact *= i\n",
    "    return fact\n",
    "print(fact(n))"
   ]
  },
  {
   "cell_type": "code",
   "execution_count": 13,
   "id": "c6cd98b4-7eab-43a2-b472-6bffcaf21218",
   "metadata": {},
   "outputs": [
    {
     "name": "stdout",
     "output_type": "stream",
     "text": [
      "3628800\n"
     ]
    }
   ],
   "source": [
    "def fact(n):\n",
    "    fact=1\n",
    "    for i in range(1,n+1):\n",
    "        fact *=i\n",
    "    return fact\n",
    "\n",
    "print(fact(10))"
   ]
  },
  {
   "cell_type": "markdown",
   "id": "0679dff2-00f7-4501-95a4-b16900a8562f",
   "metadata": {},
   "source": [
    "### 9 Write a factorial by using Recursive version"
   ]
  },
  {
   "cell_type": "code",
   "execution_count": 212,
   "id": "8d6652cd-347e-45f6-9eb9-309067d41449",
   "metadata": {},
   "outputs": [
    {
     "name": "stdin",
     "output_type": "stream",
     "text": [
      "Enter a number: 3\n"
     ]
    },
    {
     "data": {
      "text/plain": [
       "6"
      ]
     },
     "execution_count": 212,
     "metadata": {},
     "output_type": "execute_result"
    }
   ],
   "source": [
    "n = int(input(\"Enter a number:\"))\n",
    "\n",
    "def fact(n):\n",
    "    if n == 0 or n ==1:\n",
    "        return 1\n",
    "    else:\n",
    "        return n * fact(n-1)\n",
    "\n",
    "fact(n)"
   ]
  },
  {
   "cell_type": "markdown",
   "id": "e043a857-a39f-4bea-a0d5-9f1f40353b03",
   "metadata": {},
   "source": [
    "### 10 Write a normal fabonacci"
   ]
  },
  {
   "cell_type": "code",
   "execution_count": 19,
   "id": "e71303b1-eda6-4349-91eb-9a16db5c73ea",
   "metadata": {},
   "outputs": [
    {
     "name": "stdin",
     "output_type": "stream",
     "text": [
      "Enter a number: 40\n"
     ]
    },
    {
     "data": {
      "text/plain": [
       "815915283247897734345611269596115894272000000000"
      ]
     },
     "execution_count": 19,
     "metadata": {},
     "output_type": "execute_result"
    }
   ],
   "source": [
    "n = int(input(\"Enter a number:\"))\n",
    "\n",
    "def fact(n):\n",
    "    if n == 0 or n ==1:\n",
    "        return 1\n",
    "    else:\n",
    "        return n * fact(n-1)\n",
    "\n",
    "fact(n)"
   ]
  },
  {
   "cell_type": "code",
   "execution_count": 5,
   "id": "cfbc6109-dba0-4b7e-82cb-d76ab20c466c",
   "metadata": {},
   "outputs": [
    {
     "name": "stdin",
     "output_type": "stream",
     "text": [
      "Enter a number: 10\n"
     ]
    },
    {
     "name": "stdout",
     "output_type": "stream",
     "text": [
      "0\n",
      "1\n",
      "1\n",
      "2\n",
      "3\n",
      "5\n",
      "8\n",
      "13\n",
      "21\n",
      "34\n"
     ]
    }
   ],
   "source": [
    "n = int(input(\"Enter a number:\"))\n",
    "\n",
    "def fib(n):\n",
    "    a , b = 0, 1\n",
    "    for _ in range(n):\n",
    "        print (a)\n",
    "        a , b = b, a+b\n",
    "\n",
    "fib(n)"
   ]
  },
  {
   "cell_type": "code",
   "execution_count": 9,
   "id": "855fd164-647d-4ffb-9529-e1fe6df51e8e",
   "metadata": {},
   "outputs": [
    {
     "name": "stdout",
     "output_type": "stream",
     "text": [
      "0\n",
      "1\n",
      "1\n",
      "2\n",
      "3\n",
      "5\n",
      "8\n",
      "13\n",
      "21\n",
      "34\n"
     ]
    }
   ],
   "source": [
    "def fac(n):\n",
    "    a,b = 0,1\n",
    "    for _ in range(n):\n",
    "        print(a)\n",
    "        a,b =b ,a+b\n",
    "\n",
    "fac(10)\n"
   ]
  },
  {
   "cell_type": "markdown",
   "id": "e1a8fb12-acd6-41d7-a5ec-60c9d1b1dac3",
   "metadata": {},
   "source": [
    "### 11 Finding the maximum number in a list"
   ]
  },
  {
   "cell_type": "code",
   "execution_count": 139,
   "id": "a4ec5d89-6464-4a90-b894-6bc19447da7e",
   "metadata": {},
   "outputs": [
    {
     "data": {
      "text/plain": [
       "65"
      ]
     },
     "execution_count": 139,
     "metadata": {},
     "output_type": "execute_result"
    }
   ],
   "source": [
    "number_list =[12,23,1,2,34,5,65]\n",
    "\n",
    "def number(number_list):\n",
    "    return  max(number_list)\n",
    "\n",
    "number(number_list)"
   ]
  },
  {
   "cell_type": "markdown",
   "id": "df3792aa-ff7f-4a8c-a383-58ab0eb58218",
   "metadata": {},
   "source": [
    "### 12 Finding the minimum in a list"
   ]
  },
  {
   "cell_type": "code",
   "execution_count": 142,
   "id": "80af4c67-fb8f-4e0f-aadc-395307de7ea8",
   "metadata": {},
   "outputs": [
    {
     "data": {
      "text/plain": [
       "1"
      ]
     },
     "execution_count": 142,
     "metadata": {},
     "output_type": "execute_result"
    }
   ],
   "source": [
    "list1=  [11,23,1,2,34,5,65]\n",
    "\n",
    "def number(list1):\n",
    "    return min(list1)\n",
    "\n",
    "number(list1)"
   ]
  },
  {
   "cell_type": "markdown",
   "id": "7ae38b97-03b3-4907-8d8e-1a07ea9a9a57",
   "metadata": {},
   "source": [
    "### 13 Finding the middle elements in a list "
   ]
  },
  {
   "cell_type": "code",
   "execution_count": 145,
   "id": "c4afc72a-4927-4b51-8760-96011eb31add",
   "metadata": {},
   "outputs": [
    {
     "data": {
      "text/plain": [
       "3"
      ]
     },
     "execution_count": 145,
     "metadata": {},
     "output_type": "execute_result"
    }
   ],
   "source": [
    "list2 =[11,2,33,4,56,5,21]\n",
    "\n",
    "def middle(list2):\n",
    "    return int(len(list2 )// 2)\n",
    "\n",
    "middle(list2)"
   ]
  },
  {
   "cell_type": "markdown",
   "id": "8955cf56-6616-4209-b91a-ef62e6b1a519",
   "metadata": {},
   "source": [
    "### 14 Write a python programming to generate a random number ."
   ]
  },
  {
   "cell_type": "code",
   "execution_count": 2,
   "id": "38dd7873-abf8-403f-9674-f1667caac468",
   "metadata": {},
   "outputs": [
    {
     "name": "stdout",
     "output_type": "stream",
     "text": [
      "random:3\n"
     ]
    }
   ],
   "source": [
    "import random\n",
    "print(f'random:{random.randint(1,100)}')"
   ]
  },
  {
   "cell_type": "markdown",
   "id": "8f5a76ed-9fdd-4ce3-bd8f-76e42410b769",
   "metadata": {},
   "source": [
    "### 15 Write a python programming to swap two variable"
   ]
  },
  {
   "cell_type": "code",
   "execution_count": 6,
   "id": "62564a89-1d3e-4339-9e93-140b1b3840ca",
   "metadata": {},
   "outputs": [
    {
     "name": "stdin",
     "output_type": "stream",
     "text": [
      "Enter a first variable a\n",
      "Enter a second variable b\n"
     ]
    },
    {
     "name": "stdout",
     "output_type": "stream",
     "text": [
      "original values:a=a,b=b\n",
      "swapped value :a=b,b=a\n"
     ]
    }
   ],
   "source": [
    "a = input(\"Enter a first variable\")\n",
    "b = input(\"Enter a second variable\")\n",
    "\n",
    "print(f'original values:a={a},b={b}')\n",
    "temp = a\n",
    "a = b\n",
    "b = temp\n",
    "print(f'swapped value :a={a},b={b}')"
   ]
  },
  {
   "cell_type": "markdown",
   "id": "a4a08400-9698-49ca-88f4-ff723677c01b",
   "metadata": {},
   "source": [
    "### 15 Write a python function to convert kilometer to miles ."
   ]
  },
  {
   "cell_type": "code",
   "execution_count": 7,
   "id": "4df750dd-d0cb-450e-8a13-6059ee7fe3bc",
   "metadata": {},
   "outputs": [
    {
     "data": {
      "text/plain": [
       "6.21371"
      ]
     },
     "execution_count": 7,
     "metadata": {},
     "output_type": "execute_result"
    }
   ],
   "source": [
    "def miles_(kilometer):\n",
    "    miles = 0.621371\n",
    "    return kilometer*miles\n",
    "\n",
    "\n",
    "miles_(10)\n",
    "#print(f'{miles} kilometer is equal to {kilometer} miles')"
   ]
  },
  {
   "cell_type": "markdown",
   "id": "5ce51f54-8b53-4aa4-afcb-2435877e30a2",
   "metadata": {},
   "source": [
    "### 16 write a python programming to display calender"
   ]
  },
  {
   "cell_type": "code",
   "execution_count": 30,
   "id": "641d91f2-3f5c-4858-9375-bfec8431e073",
   "metadata": {},
   "outputs": [
    {
     "name": "stdin",
     "output_type": "stream",
     "text": [
      "Enter year : 2003\n",
      "Enter month : 11\n"
     ]
    },
    {
     "name": "stdout",
     "output_type": "stream",
     "text": [
      "   November 2003\n",
      "Mo Tu We Th Fr Sa Su\n",
      "                1  2\n",
      " 3  4  5  6  7  8  9\n",
      "10 11 12 13 14 15 16\n",
      "17 18 19 20 21 22 23\n",
      "24 25 26 27 28 29 30\n",
      "\n"
     ]
    }
   ],
   "source": [
    "import calendar\n",
    "year = int(input(\"Enter year :\"))\n",
    "month = int(input(\"Enter month :\"))\n",
    "\n",
    "cal = calendar.month(year,month)\n",
    "print(cal)"
   ]
  },
  {
   "cell_type": "markdown",
   "id": "443baa40-255f-47c4-9a65-ae30c3d655bc",
   "metadata": {},
   "source": [
    "#### 17 Write a python program to swap two variables without temp variable ."
   ]
  },
  {
   "cell_type": "code",
   "execution_count": 6,
   "id": "2dcbfcca-3280-4368-884d-856ad5a2fbda",
   "metadata": {},
   "outputs": [
    {
     "name": "stdout",
     "output_type": "stream",
     "text": [
      "After swapping:\n",
      "a = 10\n",
      "b = 15\n"
     ]
    }
   ],
   "source": [
    "a = 15\n",
    "b = 10\n",
    "\n",
    "a,b = b ,a\n",
    "print(\"After swapping:\")\n",
    "print(\"a =\", a )\n",
    "print(\"b =\", b )"
   ]
  },
  {
   "cell_type": "markdown",
   "id": "5935c182-9d3b-4b0f-b927-ab8c039beb41",
   "metadata": {},
   "source": [
    "### 18 Write a python program to swap two variables without temp variable ."
   ]
  },
  {
   "cell_type": "code",
   "execution_count": 11,
   "id": "8e894a8c-4f05-46d1-877c-97d0b435f6af",
   "metadata": {},
   "outputs": [
    {
     "name": "stdin",
     "output_type": "stream",
     "text": [
      "Enter a variable 100\n",
      "Enter a variable 20\n"
     ]
    },
    {
     "name": "stdout",
     "output_type": "stream",
     "text": [
      "Original Values: a =100,b =20\n",
      "Swapped values: a = 20, b = 100\n"
     ]
    }
   ],
   "source": [
    "a = input(\"Enter a variable\")\n",
    "b = input(\"Enter a variable\")\n",
    "print(f'Original Values: a ={a},b ={b}')\n",
    "\n",
    "temp = a\n",
    "a = b\n",
    "b = temp\n",
    "\n",
    "print(f'Swapped values: a = {a}, b = {b}')"
   ]
  },
  {
   "cell_type": "markdown",
   "id": "691c095f-f7f9-434c-8d15-116c9c60c884",
   "metadata": {},
   "source": [
    "### 19 Write a python program to check if a number is positive,negative or zero"
   ]
  },
  {
   "cell_type": "code",
   "execution_count": 40,
   "id": "44a18405-2f1d-4c2b-98e0-2b37d3edc79e",
   "metadata": {},
   "outputs": [
    {
     "name": "stdin",
     "output_type": "stream",
     "text": [
      "Enter a number : -1\n"
     ]
    },
    {
     "name": "stdout",
     "output_type": "stream",
     "text": [
      "negative number \n"
     ]
    }
   ],
   "source": [
    "num = int(input(\"Enter a number :\"))\n",
    "\n",
    "if num > 0:\n",
    "    print(\"positive number\")\n",
    "\n",
    "elif num == 0:\n",
    "    print(\"zero\")\n",
    "\n",
    "else:\n",
    "    print(\"negative number \")"
   ]
  },
  {
   "cell_type": "markdown",
   "id": "dc51a2d5-0332-4aac-bb08-e759051df2d3",
   "metadata": {},
   "source": [
    "### 20 Write a python program to check if a number is odd or even ."
   ]
  },
  {
   "cell_type": "code",
   "execution_count": 30,
   "id": "922bbdb5-60fa-457f-9d53-b5ab5f09bc75",
   "metadata": {},
   "outputs": [
    {
     "name": "stdin",
     "output_type": "stream",
     "text": [
      "Enter a number : 1\n"
     ]
    },
    {
     "name": "stdout",
     "output_type": "stream",
     "text": [
      "This is a odd number \n"
     ]
    }
   ],
   "source": [
    "num = int(input(\"Enter a number :\"))\n",
    "if num%2 == 0:\n",
    "    print(\"This is a even number :\")\n",
    "\n",
    "else:\n",
    "    print(\"This is a odd number \")"
   ]
  },
  {
   "cell_type": "markdown",
   "id": "4463b23c-fee5-4beb-9c85-5e6361aed5e9",
   "metadata": {},
   "source": [
    "### 21 Write a python programing to check Leap year ."
   ]
  },
  {
   "cell_type": "code",
   "execution_count": 59,
   "id": "94a6158e-ad5e-421a-93b4-cb70e7fadbbb",
   "metadata": {},
   "outputs": [
    {
     "name": "stdin",
     "output_type": "stream",
     "text": [
      "Enter a year : 2024\n"
     ]
    },
    {
     "name": "stdout",
     "output_type": "stream",
     "text": [
      "2024 is a leap year\n"
     ]
    }
   ],
   "source": [
    "year = int(input(\"Enter a year :\"))\n",
    "\n",
    "if (year% 400 == 0) and (year % 100 == 0):\n",
    "    print(\"{0} is a leap year\".format(year))\n",
    "\n",
    "elif(year%4 == 0) and (year %100 != 0):\n",
    "    print(\"{0} is a leap year\".format(year))\n",
    "\n",
    "else:\n",
    "    print(\"{0} This is not a leap year\".format(year))"
   ]
  },
  {
   "cell_type": "markdown",
   "id": "0446c1c7-deb5-432f-953d-39eaf760b2ef",
   "metadata": {},
   "source": [
    "### 22 Write a python program to dislay the multiplication table."
   ]
  },
  {
   "cell_type": "code",
   "execution_count": 71,
   "id": "8c467295-a4e9-4e3a-b42c-2e249453bb3c",
   "metadata": {},
   "outputs": [
    {
     "name": "stdin",
     "output_type": "stream",
     "text": [
      "Display multiplication table of:  10\n"
     ]
    },
    {
     "name": "stdout",
     "output_type": "stream",
     "text": [
      "10 x 1= 10\n",
      "10 x 2= 20\n",
      "10 x 3= 30\n",
      "10 x 4= 40\n",
      "10 x 5= 50\n",
      "10 x 6= 60\n",
      "10 x 7= 70\n",
      "10 x 8= 80\n",
      "10 x 9= 90\n",
      "10 x 10= 100\n"
     ]
    }
   ],
   "source": [
    "num = int(input(\"Display multiplication table of: \"))\n",
    "\n",
    "for i in range(1,11):\n",
    "    print(f'{num} x {i}= {num*i}')"
   ]
  },
  {
   "cell_type": "markdown",
   "id": "cdb88ec7-604c-43b8-bbd1-3f51412c73ca",
   "metadata": {},
   "source": [
    "### 23 Write a python program to find the sum of natural numbers ."
   ]
  },
  {
   "cell_type": "code",
   "execution_count": 98,
   "id": "05864ece-55e9-4bb9-bd99-41db857a0a02",
   "metadata": {},
   "outputs": [
    {
     "name": "stdin",
     "output_type": "stream",
     "text": [
      "Enter a number : 5\n"
     ]
    },
    {
     "name": "stdout",
     "output_type": "stream",
     "text": [
      "sum of first 5 7\n"
     ]
    }
   ],
   "source": [
    "n =int( input(\"Enter a number :\"))\n",
    "sum = 0\n",
    "\n",
    "for i in (1,n +1):\n",
    "    sum += i\n",
    "\n",
    "print(\"sum of first\",n,sum)"
   ]
  },
  {
   "cell_type": "code",
   "execution_count": 31,
   "id": "3d750afc-6ac9-4861-9202-0c8640df4351",
   "metadata": {},
   "outputs": [
    {
     "data": {
      "text/plain": [
       "4"
      ]
     },
     "execution_count": 31,
     "metadata": {},
     "output_type": "execute_result"
    }
   ],
   "source": [
    "## lenght of string\n",
    "def fun(s):\n",
    "    length=0\n",
    "    for i in s:\n",
    "        length+=1\n",
    "    return length\n",
    "\n",
    "fun(\"ammi\")"
   ]
  },
  {
   "cell_type": "code",
   "execution_count": 29,
   "id": "60317999-ff87-4a4e-9da8-87ac7a828cc9",
   "metadata": {},
   "outputs": [
    {
     "data": {
      "text/plain": [
       "4"
      ]
     },
     "execution_count": 29,
     "metadata": {},
     "output_type": "execute_result"
    }
   ],
   "source": [
    "## lenght of string\n",
    "def fun(s):\n",
    "    length = 0\n",
    "    for i in s:\n",
    "        length += 1\n",
    "    return length\n",
    "fun(\"ammi\")"
   ]
  },
  {
   "cell_type": "code",
   "execution_count": 35,
   "id": "2ce2deba-e880-4e60-ab62-41f7a9d66e97",
   "metadata": {},
   "outputs": [
    {
     "data": {
      "text/plain": [
       "4"
      ]
     },
     "execution_count": 35,
     "metadata": {},
     "output_type": "execute_result"
    }
   ],
   "source": [
    "## lenght of string\n",
    "def fun(s):\n",
    "    lenght= 0\n",
    "    while s:\n",
    "        lenght +=1\n",
    "        s=s[1:]\n",
    "    return lenght\n",
    "\n",
    "fun(\"ammi\")"
   ]
  },
  {
   "cell_type": "code",
   "execution_count": 39,
   "id": "f43b65bb-f9ad-4c21-ab1d-c2d7a0352c97",
   "metadata": {},
   "outputs": [
    {
     "data": {
      "text/plain": [
       "'gajalaabhi'"
      ]
     },
     "execution_count": 39,
     "metadata": {},
     "output_type": "execute_result"
    }
   ],
   "source": [
    "## concatenate the two  string\n",
    "def concatenate(s1,s2):\n",
    "    result=''\n",
    "    for i in s1:\n",
    "        result += i\n",
    "    for i in s2:\n",
    "        result += i\n",
    "    return result\n",
    "\n",
    "concatenate(\"gajala\",\"abhi\")\n",
    "        "
   ]
  },
  {
   "cell_type": "code",
   "execution_count": 79,
   "id": "ba5372c6-0e99-4c5b-b196-af3225e8cbe3",
   "metadata": {},
   "outputs": [
    {
     "data": {
      "text/plain": [
       "False"
      ]
     },
     "execution_count": 79,
     "metadata": {},
     "output_type": "execute_result"
    }
   ],
   "source": [
    "## compare the string\n",
    "def compare(s1,s2):\n",
    "    if len(s1)!=len(s2):\n",
    "        return False\n",
    "    for each in range (len(s1)):\n",
    "        if s1[each] != s2[each]:\n",
    "            return False\n",
    "    else:\n",
    "        return True\n",
    "\n",
    "compare(\"gajala\",\"abhi\")"
   ]
  },
  {
   "cell_type": "code",
   "execution_count": 83,
   "id": "f312011b-78a4-4ea7-ab0a-03e4905b539a",
   "metadata": {},
   "outputs": [
    {
     "data": {
      "text/plain": [
       "False"
      ]
     },
     "execution_count": 83,
     "metadata": {},
     "output_type": "execute_result"
    }
   ],
   "source": [
    "def com(s1,s2):\n",
    "    if len(s1)!=len(s2):\n",
    "        return False\n",
    "    for each in range(len(ss1)):\n",
    "        if s1[each]!= s2[each]:\n",
    "            return False\n",
    "    return True\n",
    "\n",
    "com(\"a\",\"ab\")"
   ]
  },
  {
   "cell_type": "code",
   "execution_count": 105,
   "id": "6b88d736-d69b-4d1a-b05a-c96f37834b89",
   "metadata": {},
   "outputs": [
    {
     "data": {
      "text/plain": [
       "True"
      ]
     },
     "execution_count": 105,
     "metadata": {},
     "output_type": "execute_result"
    }
   ],
   "source": [
    "def comp(s1,s2):\n",
    "    if len(str(s1))==len(str(s2)):\n",
    "        return True\n",
    "    else:\n",
    "        return False\n",
    "\n",
    "comp(19,19)"
   ]
  },
  {
   "cell_type": "code",
   "execution_count": 111,
   "id": "43d90e91-642d-47c3-a1ec-10b0e22fc105",
   "metadata": {},
   "outputs": [
    {
     "data": {
      "text/plain": [
       "True"
      ]
     },
     "execution_count": 111,
     "metadata": {},
     "output_type": "execute_result"
    }
   ],
   "source": [
    "def fd(e1,d2):\n",
    "    for each in range(len(e1)):\n",
    "        if e1[each]!= d2[each]:\n",
    "            return False\n",
    "        else:\n",
    "            return True\n",
    "\n",
    "fd('asd','asd')"
   ]
  },
  {
   "cell_type": "code",
   "execution_count": 57,
   "id": "a1895a81-e0fb-4077-8107-93abb52a11eb",
   "metadata": {},
   "outputs": [
    {
     "data": {
      "text/plain": [
       "'gaj'"
      ]
     },
     "execution_count": 57,
     "metadata": {},
     "output_type": "execute_result"
    }
   ],
   "source": [
    "## substring\n",
    "def string_(s,start,end):\n",
    "    result = ''\n",
    "    for i in range(start,end):\n",
    "        result +=s[i]\n",
    "    return result\n",
    "\n",
    "string_(\"gajal\",0,3)"
   ]
  },
  {
   "cell_type": "code",
   "execution_count": 123,
   "id": "e9d877a9-8f91-411a-bfdd-30afced3066e",
   "metadata": {},
   "outputs": [
    {
     "ename": "NameError",
     "evalue": "name 'string_lenght' is not defined",
     "output_type": "error",
     "traceback": [
      "\u001b[1;31m---------------------------------------------------------------------------\u001b[0m",
      "\u001b[1;31mNameError\u001b[0m                                 Traceback (most recent call last)",
      "Cell \u001b[1;32mIn[123], line 10\u001b[0m\n\u001b[0;32m      7\u001b[0m             \u001b[38;5;28;01mreturn\u001b[39;00m \u001b[38;5;28;01mTrue\u001b[39;00m\n\u001b[0;32m      8\u001b[0m     \u001b[38;5;28;01mreturn\u001b[39;00m \u001b[38;5;28;01mFalse\u001b[39;00m  \n\u001b[1;32m---> 10\u001b[0m search(\u001b[38;5;124m\"\u001b[39m\u001b[38;5;124mgajala\u001b[39m\u001b[38;5;124m\"\u001b[39m,\u001b[38;5;241m3\u001b[39m)\n",
      "Cell \u001b[1;32mIn[123], line 4\u001b[0m, in \u001b[0;36msearch\u001b[1;34m(s, sub_string)\u001b[0m\n\u001b[0;32m      3\u001b[0m \u001b[38;5;28;01mdef\u001b[39;00m \u001b[38;5;21msearch\u001b[39m(s,sub_string):\n\u001b[1;32m----> 4\u001b[0m     length \u001b[38;5;241m=\u001b[39m string_lenght(sub_string)\n\u001b[0;32m      5\u001b[0m     \u001b[38;5;28;01mfor\u001b[39;00m each \u001b[38;5;129;01min\u001b[39;00m \u001b[38;5;28mrange\u001b[39m(string_lenght(s)\u001b[38;5;241m-\u001b[39mlenght \u001b[38;5;241m+\u001b[39m\u001b[38;5;241m1\u001b[39m):\n\u001b[0;32m      6\u001b[0m         \u001b[38;5;28;01mif\u001b[39;00m s[i:i\u001b[38;5;241m+\u001b[39mlength]\u001b[38;5;241m==\u001b[39msubstring:\n",
      "\u001b[1;31mNameError\u001b[0m: name 'string_lenght' is not defined"
     ]
    }
   ],
   "source": [
    "## string search\n",
    "\n",
    "def search(s,sub_string):\n",
    "    length = string_lenght(sub_string)\n",
    "    for each in range(string_lenght(s)-lenght +1):\n",
    "        if s[i:i+length]==substring:\n",
    "            return True\n",
    "    return False  \n",
    "\n",
    "search(\"gajala\",3)"
   ]
  },
  {
   "cell_type": "code",
   "execution_count": 51,
   "id": "2125d1f2-12d7-4999-ba3e-24944bced414",
   "metadata": {},
   "outputs": [],
   "source": [
    "## dictionary "
   ]
  },
  {
   "cell_type": "code",
   "execution_count": null,
   "id": "3965de4f-c552-4846-85ca-cdded2e45e96",
   "metadata": {},
   "outputs": [],
   "source": []
  }
 ],
 "metadata": {
  "kernelspec": {
   "display_name": "Python [conda env:base] *",
   "language": "python",
   "name": "conda-base-py"
  },
  "language_info": {
   "codemirror_mode": {
    "name": "ipython",
    "version": 3
   },
   "file_extension": ".py",
   "mimetype": "text/x-python",
   "name": "python",
   "nbconvert_exporter": "python",
   "pygments_lexer": "ipython3",
   "version": "3.12.7"
  }
 },
 "nbformat": 4,
 "nbformat_minor": 5
}
